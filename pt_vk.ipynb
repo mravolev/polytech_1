{
 "cells": [
  {
   "cell_type": "code",
   "execution_count": 13,
   "id": "b2ab5ba2-5163-4008-be7e-762019018e1b",
   "metadata": {},
   "outputs": [],
   "source": []
  },
  {
   "cell_type": "code",
   "execution_count": 11,
   "id": "f57c5e5d-8574-404d-97a5-51c44fa43335",
   "metadata": {},
   "outputs": [],
   "source": [
    "import requests"
   ]
  },
  {
   "cell_type": "code",
   "execution_count": 12,
   "id": "c186d33f-ce0d-42e4-ac90-4920dd05161a",
   "metadata": {},
   "outputs": [
    {
     "name": "stdout",
     "output_type": "stream",
     "text": [
      "Requirement already satisfied: vk in /Library/Frameworks/Python.framework/Versions/3.9/lib/python3.9/site-packages (2.0.2)\n",
      "Requirement already satisfied: requests<3.0,>=2.8 in /Library/Frameworks/Python.framework/Versions/3.9/lib/python3.9/site-packages (from vk) (2.26.0)\n",
      "Requirement already satisfied: urllib3<1.27,>=1.21.1 in /Library/Frameworks/Python.framework/Versions/3.9/lib/python3.9/site-packages (from requests<3.0,>=2.8->vk) (1.26.6)\n",
      "Requirement already satisfied: idna<4,>=2.5 in /Library/Frameworks/Python.framework/Versions/3.9/lib/python3.9/site-packages (from requests<3.0,>=2.8->vk) (3.2)\n",
      "Requirement already satisfied: certifi>=2017.4.17 in /Library/Frameworks/Python.framework/Versions/3.9/lib/python3.9/site-packages (from requests<3.0,>=2.8->vk) (2021.5.30)\n",
      "Requirement already satisfied: charset-normalizer~=2.0.0 in /Library/Frameworks/Python.framework/Versions/3.9/lib/python3.9/site-packages (from requests<3.0,>=2.8->vk) (2.0.4)\n",
      "\u001b[33mWARNING: You are using pip version 21.1.3; however, version 21.2.4 is available.\n",
      "You should consider upgrading via the '/Library/Frameworks/Python.framework/Versions/3.9/bin/python3.9 -m pip install --upgrade pip' command.\u001b[0m\n"
     ]
    }
   ],
   "source": [
    "! pip3 install vk"
   ]
  },
  {
   "cell_type": "code",
   "execution_count": 4,
   "id": "70cd2e41-6e8f-4ea5-8fc6-407e430e7c14",
   "metadata": {},
   "outputs": [],
   "source": [
    "import vk"
   ]
  },
  {
   "cell_type": "code",
   "execution_count": 31,
   "id": "adaec780-54fa-4d34-8db4-faa04409a394",
   "metadata": {},
   "outputs": [
    {
     "ename": "AttributeError",
     "evalue": "module 'vk' has no attribute 'VkApi'",
     "output_type": "error",
     "traceback": [
      "\u001b[0;31m---------------------------------------------------------------------------\u001b[0m",
      "\u001b[0;31mAttributeError\u001b[0m                            Traceback (most recent call last)",
      "\u001b[0;32m/var/folders/_8/b_1px5m113jdc87k70gq1xwh0000gn/T/ipykernel_78035/513980571.py\u001b[0m in \u001b[0;36m<module>\u001b[0;34m\u001b[0m\n\u001b[1;32m      1\u001b[0m \u001b[0;31m# session = vk.AuthSession(app_id='7939064', user_login='zuzev_mamon@mail.ru',user_password='-----',scope='users,friends')\u001b[0m\u001b[0;34m\u001b[0m\u001b[0;34m\u001b[0m\u001b[0;34m\u001b[0m\u001b[0m\n\u001b[0;32m----> 2\u001b[0;31m \u001b[0msession\u001b[0m \u001b[0;34m=\u001b[0m \u001b[0mvk\u001b[0m\u001b[0;34m.\u001b[0m\u001b[0mVkApi\u001b[0m\u001b[0;34m(\u001b[0m\u001b[0mtoken\u001b[0m\u001b[0;34m=\u001b[0m\u001b[0mtoken\u001b[0m\u001b[0;34m)\u001b[0m\u001b[0;34m\u001b[0m\u001b[0;34m\u001b[0m\u001b[0m\n\u001b[0m\u001b[1;32m      3\u001b[0m \u001b[0mapi\u001b[0m \u001b[0;34m=\u001b[0m \u001b[0mvk\u001b[0m\u001b[0;34m.\u001b[0m\u001b[0mAPI\u001b[0m\u001b[0;34m(\u001b[0m\u001b[0msession\u001b[0m\u001b[0;34m)\u001b[0m\u001b[0;34m\u001b[0m\u001b[0;34m\u001b[0m\u001b[0m\n\u001b[1;32m      4\u001b[0m \u001b[0msession\u001b[0m\u001b[0;34m.\u001b[0m\u001b[0mauth\u001b[0m\u001b[0;34m(\u001b[0m\u001b[0;34m)\u001b[0m\u001b[0;34m\u001b[0m\u001b[0;34m\u001b[0m\u001b[0m\n",
      "\u001b[0;31mAttributeError\u001b[0m: module 'vk' has no attribute 'VkApi'"
     ]
    }
   ],
   "source": [
    "# session = vk.AuthSession(app_id='7939064', user_login='zuzev_mamon@mail.ru',user_password='-----',scope='users,friends')\n",
    "session = vk.VkApi(token=token)\n",
    "api = vk.API(session)\n",
    "session.auth()"
   ]
  },
  {
   "cell_type": "code",
   "execution_count": 33,
   "id": "769bc34e-2ccc-442c-8a86-f5d5ddd11577",
   "metadata": {},
   "outputs": [
    {
     "ename": "VkAPIError",
     "evalue": "5. User authorization failed: no access_token passed.. request_params = {'method': 'users.get', 'oauth': '1', 'user_ids': '1'}",
     "output_type": "error",
     "traceback": [
      "\u001b[0;31m---------------------------------------------------------------------------\u001b[0m",
      "\u001b[0;31mVkAPIError\u001b[0m                                Traceback (most recent call last)",
      "\u001b[0;32m/var/folders/_8/b_1px5m113jdc87k70gq1xwh0000gn/T/ipykernel_78035/4170360464.py\u001b[0m in \u001b[0;36m<module>\u001b[0;34m\u001b[0m\n\u001b[1;32m      2\u001b[0m \u001b[0msession\u001b[0m \u001b[0;34m=\u001b[0m \u001b[0mvk\u001b[0m\u001b[0;34m.\u001b[0m\u001b[0mSession\u001b[0m\u001b[0;34m(\u001b[0m\u001b[0;34m)\u001b[0m\u001b[0;34m\u001b[0m\u001b[0;34m\u001b[0m\u001b[0m\n\u001b[1;32m      3\u001b[0m \u001b[0mapi\u001b[0m \u001b[0;34m=\u001b[0m \u001b[0mvk\u001b[0m\u001b[0;34m.\u001b[0m\u001b[0mAPI\u001b[0m\u001b[0;34m(\u001b[0m\u001b[0msession\u001b[0m\u001b[0;34m)\u001b[0m\u001b[0;34m\u001b[0m\u001b[0;34m\u001b[0m\u001b[0m\n\u001b[0;32m----> 4\u001b[0;31m \u001b[0mapi\u001b[0m\u001b[0;34m.\u001b[0m\u001b[0musers\u001b[0m\u001b[0;34m.\u001b[0m\u001b[0mget\u001b[0m\u001b[0;34m(\u001b[0m\u001b[0muser_ids\u001b[0m\u001b[0;34m=\u001b[0m\u001b[0;36m1\u001b[0m\u001b[0;34m)\u001b[0m\u001b[0;34m\u001b[0m\u001b[0;34m\u001b[0m\u001b[0m\n\u001b[0m\u001b[1;32m      5\u001b[0m \u001b[0;34m[\u001b[0m\u001b[0;34m{\u001b[0m\u001b[0;34m'first_name'\u001b[0m\u001b[0;34m:\u001b[0m \u001b[0;34m'Alexey'\u001b[0m\u001b[0;34m,\u001b[0m \u001b[0;34m'last_name'\u001b[0m\u001b[0;34m:\u001b[0m \u001b[0;34m'Voronkov'\u001b[0m\u001b[0;34m,\u001b[0m \u001b[0;34m'id'\u001b[0m\u001b[0;34m:\u001b[0m \u001b[0;36m7838086\u001b[0m\u001b[0;34m}\u001b[0m\u001b[0;34m]\u001b[0m\u001b[0;34m\u001b[0m\u001b[0;34m\u001b[0m\u001b[0m\n",
      "\u001b[0;32m/Library/Frameworks/Python.framework/Versions/3.9/lib/python3.9/site-packages/vk/api.py\u001b[0m in \u001b[0;36m__call__\u001b[0;34m(self, **method_args)\u001b[0m\n\u001b[1;32m    171\u001b[0m     \u001b[0;32mdef\u001b[0m \u001b[0m__call__\u001b[0m\u001b[0;34m(\u001b[0m\u001b[0mself\u001b[0m\u001b[0;34m,\u001b[0m \u001b[0;34m**\u001b[0m\u001b[0mmethod_args\u001b[0m\u001b[0;34m)\u001b[0m\u001b[0;34m:\u001b[0m\u001b[0;34m\u001b[0m\u001b[0;34m\u001b[0m\u001b[0m\n\u001b[1;32m    172\u001b[0m         \u001b[0mself\u001b[0m\u001b[0;34m.\u001b[0m\u001b[0m_method_args\u001b[0m \u001b[0;34m=\u001b[0m \u001b[0mmethod_args\u001b[0m\u001b[0;34m\u001b[0m\u001b[0;34m\u001b[0m\u001b[0m\n\u001b[0;32m--> 173\u001b[0;31m         \u001b[0;32mreturn\u001b[0m \u001b[0mself\u001b[0m\u001b[0;34m.\u001b[0m\u001b[0m_api\u001b[0m\u001b[0;34m.\u001b[0m\u001b[0m_session\u001b[0m\u001b[0;34m.\u001b[0m\u001b[0mmake_request\u001b[0m\u001b[0;34m(\u001b[0m\u001b[0mself\u001b[0m\u001b[0;34m)\u001b[0m\u001b[0;34m\u001b[0m\u001b[0;34m\u001b[0m\u001b[0m\n\u001b[0m\u001b[1;32m    174\u001b[0m \u001b[0;34m\u001b[0m\u001b[0m\n\u001b[1;32m    175\u001b[0m \u001b[0;34m\u001b[0m\u001b[0m\n",
      "\u001b[0;32m/Library/Frameworks/Python.framework/Versions/3.9/lib/python3.9/site-packages/vk/api.py\u001b[0m in \u001b[0;36mmake_request\u001b[0;34m(self, method_request, captcha_response)\u001b[0m\n\u001b[1;32m    100\u001b[0m \u001b[0;34m\u001b[0m\u001b[0m\n\u001b[1;32m    101\u001b[0m                 \u001b[0;32melse\u001b[0m\u001b[0;34m:\u001b[0m\u001b[0;34m\u001b[0m\u001b[0;34m\u001b[0m\u001b[0m\n\u001b[0;32m--> 102\u001b[0;31m                     \u001b[0;32mraise\u001b[0m \u001b[0merror\u001b[0m\u001b[0;34m\u001b[0m\u001b[0;34m\u001b[0m\u001b[0m\n\u001b[0m\u001b[1;32m    103\u001b[0m \u001b[0;34m\u001b[0m\u001b[0m\n\u001b[1;32m    104\u001b[0m     \u001b[0;32mdef\u001b[0m \u001b[0msend_api_request\u001b[0m\u001b[0;34m(\u001b[0m\u001b[0mself\u001b[0m\u001b[0;34m,\u001b[0m \u001b[0mrequest\u001b[0m\u001b[0;34m,\u001b[0m \u001b[0mcaptcha_response\u001b[0m\u001b[0;34m=\u001b[0m\u001b[0;32mNone\u001b[0m\u001b[0;34m)\u001b[0m\u001b[0;34m:\u001b[0m\u001b[0;34m\u001b[0m\u001b[0;34m\u001b[0m\u001b[0m\n",
      "\u001b[0;31mVkAPIError\u001b[0m: 5. User authorization failed: no access_token passed.. request_params = {'method': 'users.get', 'oauth': '1', 'user_ids': '1'}"
     ]
    }
   ],
   "source": [
    ">>> import vk\n",
    ">>> session = vk.Session()\n",
    ">>> api = vk.API(session)\n",
    ">>> api.users.get(user_ids=1)\n",
    "[{'first_name': 'Alexey', 'last_name': 'Voronkov', 'id': 7838086}]"
   ]
  },
  {
   "cell_type": "code",
   "execution_count": 35,
   "id": "d0d017cd-219e-4645-8993-c14b1c013204",
   "metadata": {},
   "outputs": [],
   "source": [
    "import vk_api\n",
    "vk_session = vk_api.VkApi('zuzev_mamon@mail.ru', '!!!!!')\n",
    "vk_session.auth()\n",
    "\n",
    "vk = vk_session.get_api()"
   ]
  },
  {
   "cell_type": "code",
   "execution_count": 40,
   "id": "71a2361a-25c2-4eb9-82c6-1ff60861009b",
   "metadata": {},
   "outputs": [],
   "source": [
    "test = vk.users.getSubscriptions(user_id='7838086',extended=1,offset=1,count=10,fields='name')"
   ]
  },
  {
   "cell_type": "code",
   "execution_count": 41,
   "id": "9538943e-638f-4c60-b862-d7aa7f4a8499",
   "metadata": {
    "collapsed": true,
    "jupyter": {
     "outputs_hidden": true
    },
    "tags": []
   },
   "outputs": [
    {
     "data": {
      "text/plain": [
       "{'count': 98,\n",
       " 'items': [{'id': 80829508,\n",
       "   'name': 'SubsCity :: кино на языке оригинала в Москве',\n",
       "   'screen_name': 'subscity_msk',\n",
       "   'is_closed': 0,\n",
       "   'type': 'page',\n",
       "   'is_admin': 0,\n",
       "   'is_member': 1,\n",
       "   'is_advertiser': 0,\n",
       "   'photos': [{'height': 50,\n",
       "     'url': 'https://sun1-55.userapi.com/s/v1/if1/qsgBLfq8FgLzIxV-rpCwqL0lwCRFfmQDKAI5ONMX_DODpv73eSqWWuiNFFW72KzdttFPfESH.jpg?size=50x50&quality=96&crop=62,61,388,388&ava=1',\n",
       "     'width': 50},\n",
       "    {'height': 100,\n",
       "     'url': 'https://sun1-55.userapi.com/s/v1/if1/ulXIaqV672SqIepWcaLloZQBJDvKtFMwvzC914GZb_w0xYTG0zoOJZu_-9Cx3EoycMQLmZDD.jpg?size=100x100&quality=96&crop=62,61,388,388&ava=1',\n",
       "     'width': 100},\n",
       "    {'height': 200,\n",
       "     'url': 'https://sun1-55.userapi.com/s/v1/if1/MT_nCw_BUY3QpSZBZATDMcVyTxDsdMBA2jc4TPm_9ZVCvxEDLmhP9gtSUcgQtqM6TMLRI0QP.jpg?size=200x200&quality=96&crop=62,61,388,388&ava=1',\n",
       "     'width': 200}],\n",
       "   'photo_50': 'https://sun1-55.userapi.com/s/v1/if1/qsgBLfq8FgLzIxV-rpCwqL0lwCRFfmQDKAI5ONMX_DODpv73eSqWWuiNFFW72KzdttFPfESH.jpg?size=50x50&quality=96&crop=62,61,388,388&ava=1',\n",
       "   'photo_100': 'https://sun1-55.userapi.com/s/v1/if1/ulXIaqV672SqIepWcaLloZQBJDvKtFMwvzC914GZb_w0xYTG0zoOJZu_-9Cx3EoycMQLmZDD.jpg?size=100x100&quality=96&crop=62,61,388,388&ava=1',\n",
       "   'photo_200': 'https://sun1-55.userapi.com/s/v1/if1/MT_nCw_BUY3QpSZBZATDMcVyTxDsdMBA2jc4TPm_9ZVCvxEDLmhP9gtSUcgQtqM6TMLRI0QP.jpg?size=200x200&quality=96&crop=62,61,388,388&ava=1'},\n",
       "  {'id': 98154015,\n",
       "   'name': 'Выхинская критика французской мысли',\n",
       "   'screen_name': 'derrunda',\n",
       "   'is_closed': 0,\n",
       "   'type': 'page',\n",
       "   'is_admin': 0,\n",
       "   'is_member': 1,\n",
       "   'is_advertiser': 0,\n",
       "   'photos': [{'height': 50,\n",
       "     'url': 'https://sun1-55.userapi.com/s/v1/ig2/lEINaXp_W36XelBcPwGeqTKBu1AwWIGtE4GvFugJrCYxukBfHpahii4mXEjyVuUyUGA6DFWtayW9h2Dj3EFIybXm.jpg?size=50x50&quality=96&crop=0,0,807,807&ava=1',\n",
       "     'width': 50},\n",
       "    {'height': 100,\n",
       "     'url': 'https://sun1-55.userapi.com/s/v1/ig2/tvo8U4rmX5XXWwNxjO2K8ICN6H1UcMYgA1PmCXeO--357vrPLFBwCeTXa2jVDBEFp_LkzRLRA63bHRgYYWk_HNeR.jpg?size=100x100&quality=96&crop=0,0,807,807&ava=1',\n",
       "     'width': 100},\n",
       "    {'height': 200,\n",
       "     'url': 'https://sun1-55.userapi.com/s/v1/ig2/-fc6qN0hHBNlTDCvaCFb19jsEw0HsuJvCP3h1FwabOMEiHyZZ_a84mkLkX5t_k7NoGR3YC30iQggHEiBnpmpIJis.jpg?size=200x200&quality=96&crop=0,0,807,807&ava=1',\n",
       "     'width': 200}],\n",
       "   'photo_50': 'https://sun1-55.userapi.com/s/v1/ig2/lEINaXp_W36XelBcPwGeqTKBu1AwWIGtE4GvFugJrCYxukBfHpahii4mXEjyVuUyUGA6DFWtayW9h2Dj3EFIybXm.jpg?size=50x50&quality=96&crop=0,0,807,807&ava=1',\n",
       "   'photo_100': 'https://sun1-55.userapi.com/s/v1/ig2/tvo8U4rmX5XXWwNxjO2K8ICN6H1UcMYgA1PmCXeO--357vrPLFBwCeTXa2jVDBEFp_LkzRLRA63bHRgYYWk_HNeR.jpg?size=100x100&quality=96&crop=0,0,807,807&ava=1',\n",
       "   'photo_200': 'https://sun1-55.userapi.com/s/v1/ig2/-fc6qN0hHBNlTDCvaCFb19jsEw0HsuJvCP3h1FwabOMEiHyZZ_a84mkLkX5t_k7NoGR3YC30iQggHEiBnpmpIJis.jpg?size=200x200&quality=96&crop=0,0,807,807&ava=1'},\n",
       "  {'id': 162541031,\n",
       "   'name': 'АГРЕССИВНЫЕ НАХУЙ МЕМЫ!!!!!!!!!!!!!!!!!!!',\n",
       "   'screen_name': 'agressivniememes',\n",
       "   'is_closed': 0,\n",
       "   'type': 'page',\n",
       "   'is_admin': 0,\n",
       "   'is_member': 1,\n",
       "   'is_advertiser': 0,\n",
       "   'photos': [{'height': 50,\n",
       "     'url': 'https://sun1-83.userapi.com/s/v1/ig2/sPfWvdRyK7qwG6r8OnIa8-3lH4rjEbCV91_XqFZbOQcGy7sPhsbnY2SQqpSGNyTEAuitxqiy4L2Pdxosrd2SKSHk.jpg?size=50x50&quality=96&crop=125,80,875,875&ava=1',\n",
       "     'width': 50},\n",
       "    {'height': 100,\n",
       "     'url': 'https://sun1-83.userapi.com/s/v1/ig2/nLVBcuvVeswe9qe2_yEZXRcSkSYz-YBUjKSchoD2Bq8KTtQTv8wXZ7AGtQ7Bvt_F34UU4nh_kj_-IICOZ5wYGuWa.jpg?size=100x100&quality=96&crop=125,80,875,875&ava=1',\n",
       "     'width': 100},\n",
       "    {'height': 200,\n",
       "     'url': 'https://sun1-83.userapi.com/s/v1/ig2/W9arnYFilZ0iT4RwS62HFH4k-BBA6ldBB6zBzoKjzshb7Vcgm3VOq5YJ9OQpKqJBnajCfy2IKOz1V7a0bNZmskt1.jpg?size=200x200&quality=96&crop=125,80,875,875&ava=1',\n",
       "     'width': 200}],\n",
       "   'photo_50': 'https://sun1-83.userapi.com/s/v1/ig2/sPfWvdRyK7qwG6r8OnIa8-3lH4rjEbCV91_XqFZbOQcGy7sPhsbnY2SQqpSGNyTEAuitxqiy4L2Pdxosrd2SKSHk.jpg?size=50x50&quality=96&crop=125,80,875,875&ava=1',\n",
       "   'photo_100': 'https://sun1-83.userapi.com/s/v1/ig2/nLVBcuvVeswe9qe2_yEZXRcSkSYz-YBUjKSchoD2Bq8KTtQTv8wXZ7AGtQ7Bvt_F34UU4nh_kj_-IICOZ5wYGuWa.jpg?size=100x100&quality=96&crop=125,80,875,875&ava=1',\n",
       "   'photo_200': 'https://sun1-83.userapi.com/s/v1/ig2/W9arnYFilZ0iT4RwS62HFH4k-BBA6ldBB6zBzoKjzshb7Vcgm3VOq5YJ9OQpKqJBnajCfy2IKOz1V7a0bNZmskt1.jpg?size=200x200&quality=96&crop=125,80,875,875&ava=1'},\n",
       "  {'id': 141128285,\n",
       "   'name': 'V - блокнот',\n",
       "   'screen_name': 'v_notepad',\n",
       "   'is_closed': 0,\n",
       "   'type': 'page',\n",
       "   'is_admin': 0,\n",
       "   'is_member': 1,\n",
       "   'is_advertiser': 0,\n",
       "   'photos': [{'height': 50,\n",
       "     'url': 'https://sun1-18.userapi.com/s/v1/if1/VrsKF-D86zMqWY1Z2ogH4NxxBXZ0KaSvRJt4hWyQeiO79AiRDQqZ8NQhW1yYcjYddfDMH_Qx.jpg?size=50x50&quality=96&crop=300,181,200,200&ava=1',\n",
       "     'width': 50},\n",
       "    {'height': 100,\n",
       "     'url': 'https://sun1-18.userapi.com/s/v1/if1/5I5rlZmXv_HffzmAI2YmSXjg4zKdxWE-EytAuaNnD7g8jGK_mtfsY9THSAI4xGxdp5WQBqqu.jpg?size=100x100&quality=96&crop=300,181,200,200&ava=1',\n",
       "     'width': 100},\n",
       "    {'height': 200,\n",
       "     'url': 'https://sun1-18.userapi.com/s/v1/if1/rBFhZtZU06E_bMG7REfD7BaTLRSzkPEIQF4u_Ym9y1rL6m02OQVkd4A-Ru0Zk1qXxuagDn34.jpg?size=200x200&quality=96&crop=300,181,200,200&ava=1',\n",
       "     'width': 200}],\n",
       "   'photo_50': 'https://sun1-18.userapi.com/s/v1/if1/VrsKF-D86zMqWY1Z2ogH4NxxBXZ0KaSvRJt4hWyQeiO79AiRDQqZ8NQhW1yYcjYddfDMH_Qx.jpg?size=50x50&quality=96&crop=300,181,200,200&ava=1',\n",
       "   'photo_100': 'https://sun1-18.userapi.com/s/v1/if1/5I5rlZmXv_HffzmAI2YmSXjg4zKdxWE-EytAuaNnD7g8jGK_mtfsY9THSAI4xGxdp5WQBqqu.jpg?size=100x100&quality=96&crop=300,181,200,200&ava=1',\n",
       "   'photo_200': 'https://sun1-18.userapi.com/s/v1/if1/rBFhZtZU06E_bMG7REfD7BaTLRSzkPEIQF4u_Ym9y1rL6m02OQVkd4A-Ru0Zk1qXxuagDn34.jpg?size=200x200&quality=96&crop=300,181,200,200&ava=1'},\n",
       "  {'id': 160572732,\n",
       "   'name': 'Кинотексты',\n",
       "   'screen_name': 'cinetexts',\n",
       "   'is_closed': 0,\n",
       "   'type': 'page',\n",
       "   'is_admin': 0,\n",
       "   'is_member': 1,\n",
       "   'is_advertiser': 0,\n",
       "   'photos': [{'height': 50,\n",
       "     'url': 'https://sun1-27.userapi.com/s/v1/if1/XhQgEOLDPhtr3DmgHPI4ut7B91BxflJG5FBQox61zneJ1OoucIfW2KyWnLxtREdPEFe_ePLr.jpg?size=50x50&quality=96&crop=400,0,800,800&ava=1',\n",
       "     'width': 50},\n",
       "    {'height': 100,\n",
       "     'url': 'https://sun1-27.userapi.com/s/v1/if1/OhmDGT7woR0k-OXpRTKYBZiaDkYx4QaLnnomlF0ZA5WWbHTT7DvSwlGmcop3-diUcdzzGYKr.jpg?size=100x100&quality=96&crop=400,0,800,800&ava=1',\n",
       "     'width': 100},\n",
       "    {'height': 200,\n",
       "     'url': 'https://sun1-27.userapi.com/s/v1/if1/Wl_WCUgBM1GQkpJoCX0RM9ivWV5ZKZyxwy5k6dch8BpRwi4ORS_3tzNs030RWsFAQ4dw-3WL.jpg?size=200x200&quality=96&crop=400,0,800,800&ava=1',\n",
       "     'width': 200}],\n",
       "   'photo_50': 'https://sun1-27.userapi.com/s/v1/if1/XhQgEOLDPhtr3DmgHPI4ut7B91BxflJG5FBQox61zneJ1OoucIfW2KyWnLxtREdPEFe_ePLr.jpg?size=50x50&quality=96&crop=400,0,800,800&ava=1',\n",
       "   'photo_100': 'https://sun1-27.userapi.com/s/v1/if1/OhmDGT7woR0k-OXpRTKYBZiaDkYx4QaLnnomlF0ZA5WWbHTT7DvSwlGmcop3-diUcdzzGYKr.jpg?size=100x100&quality=96&crop=400,0,800,800&ava=1',\n",
       "   'photo_200': 'https://sun1-27.userapi.com/s/v1/if1/Wl_WCUgBM1GQkpJoCX0RM9ivWV5ZKZyxwy5k6dch8BpRwi4ORS_3tzNs030RWsFAQ4dw-3WL.jpg?size=200x200&quality=96&crop=400,0,800,800&ava=1'},\n",
       "  {'id': 31990499,\n",
       "   'name': 'Политехнический музей',\n",
       "   'screen_name': 'polytechmuseum',\n",
       "   'is_closed': 0,\n",
       "   'type': 'page',\n",
       "   'is_admin': 0,\n",
       "   'is_member': 1,\n",
       "   'is_advertiser': 0,\n",
       "   'photos': [{'height': 50,\n",
       "     'url': 'https://sun1-83.userapi.com/s/v1/ig2/vYRoI_JM9zJyu0Z1xVFlRTuWGlyWtjNmOnFxvoei_Cn5SycCs7daWFPA6ubo2qBzmb0qJNagp1kUxCZMHbcNEn0O.jpg?size=50x50&quality=96&crop=5,5,977,977&ava=1',\n",
       "     'width': 50},\n",
       "    {'height': 100,\n",
       "     'url': 'https://sun1-83.userapi.com/s/v1/ig2/VwBEYXYWYT_xKgLDUfVa67qQ3YDaxVISX4X6syziaa6rWuiBGZqrdET4EYvC-aRwczqgzJXjzaelqxqcouZTEW-x.jpg?size=100x100&quality=96&crop=5,5,977,977&ava=1',\n",
       "     'width': 100},\n",
       "    {'height': 200,\n",
       "     'url': 'https://sun1-83.userapi.com/s/v1/ig2/lnwml1pznVOqoozkXaeh_dDwdNxcElYcjoY7aeGYkPGjv5Rbf9YrUsoFvB5zaCtaJQ0GNW8N2W0q8Llc0sXdtaiM.jpg?size=200x200&quality=96&crop=5,5,977,977&ava=1',\n",
       "     'width': 200}],\n",
       "   'photo_50': 'https://sun1-83.userapi.com/s/v1/ig2/vYRoI_JM9zJyu0Z1xVFlRTuWGlyWtjNmOnFxvoei_Cn5SycCs7daWFPA6ubo2qBzmb0qJNagp1kUxCZMHbcNEn0O.jpg?size=50x50&quality=96&crop=5,5,977,977&ava=1',\n",
       "   'photo_100': 'https://sun1-83.userapi.com/s/v1/ig2/VwBEYXYWYT_xKgLDUfVa67qQ3YDaxVISX4X6syziaa6rWuiBGZqrdET4EYvC-aRwczqgzJXjzaelqxqcouZTEW-x.jpg?size=100x100&quality=96&crop=5,5,977,977&ava=1',\n",
       "   'photo_200': 'https://sun1-83.userapi.com/s/v1/ig2/lnwml1pznVOqoozkXaeh_dDwdNxcElYcjoY7aeGYkPGjv5Rbf9YrUsoFvB5zaCtaJQ0GNW8N2W0q8Llc0sXdtaiM.jpg?size=200x200&quality=96&crop=5,5,977,977&ava=1'},\n",
       "  {'id': 15211954,\n",
       "   'name': 'ЗЕЛО',\n",
       "   'screen_name': 'zelomiru',\n",
       "   'is_closed': 0,\n",
       "   'type': 'page',\n",
       "   'is_admin': 0,\n",
       "   'is_member': 1,\n",
       "   'is_advertiser': 0,\n",
       "   'photos': [{'height': 50,\n",
       "     'url': 'https://sun1-95.userapi.com/s/v1/ig2/DSmRKZ688ifSk0SzKdAmPsjDX5cHdlowySwv5RxjlKY6YAZc3lbXSrqUMGM-TeFgTAR8Id6dsXDYFP1uEFs0_pem.jpg?size=50x50&quality=96&crop=113,77,726,726&ava=1',\n",
       "     'width': 50},\n",
       "    {'height': 100,\n",
       "     'url': 'https://sun1-95.userapi.com/s/v1/ig2/U6wY47yJefK8hke5DxLSGHi156gPiZx7K74ysUsUdHzu5T4XDriyTxzF6Kn7YSgpkh22GNarRk-xKVh-XvJXMZA5.jpg?size=100x100&quality=96&crop=113,77,726,726&ava=1',\n",
       "     'width': 100},\n",
       "    {'height': 200,\n",
       "     'url': 'https://sun1-95.userapi.com/s/v1/ig2/Z795ULfwJ88fqU7BAAWrCD9BlZWgTWkqixIisNqd10qLVuf3kfY07oaFafC9l98DUAilXsPhff-LpM6Rs1SjTL29.jpg?size=200x200&quality=96&crop=113,77,726,726&ava=1',\n",
       "     'width': 200}],\n",
       "   'photo_50': 'https://sun1-95.userapi.com/s/v1/ig2/DSmRKZ688ifSk0SzKdAmPsjDX5cHdlowySwv5RxjlKY6YAZc3lbXSrqUMGM-TeFgTAR8Id6dsXDYFP1uEFs0_pem.jpg?size=50x50&quality=96&crop=113,77,726,726&ava=1',\n",
       "   'photo_100': 'https://sun1-95.userapi.com/s/v1/ig2/U6wY47yJefK8hke5DxLSGHi156gPiZx7K74ysUsUdHzu5T4XDriyTxzF6Kn7YSgpkh22GNarRk-xKVh-XvJXMZA5.jpg?size=100x100&quality=96&crop=113,77,726,726&ava=1',\n",
       "   'photo_200': 'https://sun1-95.userapi.com/s/v1/ig2/Z795ULfwJ88fqU7BAAWrCD9BlZWgTWkqixIisNqd10qLVuf3kfY07oaFafC9l98DUAilXsPhff-LpM6Rs1SjTL29.jpg?size=200x200&quality=96&crop=113,77,726,726&ava=1'},\n",
       "  {'id': 175837120,\n",
       "   'name': 'Альтернатива насилию',\n",
       "   'screen_name': 'salt24.online',\n",
       "   'is_closed': 0,\n",
       "   'type': 'page',\n",
       "   'is_admin': 0,\n",
       "   'is_member': 1,\n",
       "   'is_advertiser': 0,\n",
       "   'photos': [{'height': 50,\n",
       "     'url': 'https://sun1-20.userapi.com/s/v1/if1/hs5XTYha6mNclNI12p15PcN9R17gVw8iGJPCtOfqFgdzSLInjP3cHHVrz4_wTI5167D3y7kU.jpg?size=50x50&quality=96&crop=115,0,845,845&ava=1',\n",
       "     'width': 50},\n",
       "    {'height': 100,\n",
       "     'url': 'https://sun1-20.userapi.com/s/v1/if1/VILHwpCY-yyZ6YyUZ-w7zq2T5jFuScWzqdgnQYqO_lzHkNbPovad8yiEsDeulGqMMk2tgEMP.jpg?size=100x100&quality=96&crop=115,0,845,845&ava=1',\n",
       "     'width': 100},\n",
       "    {'height': 200,\n",
       "     'url': 'https://sun1-20.userapi.com/s/v1/if1/kAgq9UtWdftt7D9H8tvjP1-8ULApD71eiRy8sbbQu75q2iZDOT-Qv5XD2PYwLNak65TQylQF.jpg?size=200x200&quality=96&crop=115,0,845,845&ava=1',\n",
       "     'width': 200}],\n",
       "   'photo_50': 'https://sun1-20.userapi.com/s/v1/if1/hs5XTYha6mNclNI12p15PcN9R17gVw8iGJPCtOfqFgdzSLInjP3cHHVrz4_wTI5167D3y7kU.jpg?size=50x50&quality=96&crop=115,0,845,845&ava=1',\n",
       "   'photo_100': 'https://sun1-20.userapi.com/s/v1/if1/VILHwpCY-yyZ6YyUZ-w7zq2T5jFuScWzqdgnQYqO_lzHkNbPovad8yiEsDeulGqMMk2tgEMP.jpg?size=100x100&quality=96&crop=115,0,845,845&ava=1',\n",
       "   'photo_200': 'https://sun1-20.userapi.com/s/v1/if1/kAgq9UtWdftt7D9H8tvjP1-8ULApD71eiRy8sbbQu75q2iZDOT-Qv5XD2PYwLNak65TQylQF.jpg?size=200x200&quality=96&crop=115,0,845,845&ava=1'},\n",
       "  {'id': 3573154,\n",
       "   'name': 'Кинотеатр Иллюзион',\n",
       "   'screen_name': 'illuzion_cinema',\n",
       "   'is_closed': 0,\n",
       "   'type': 'page',\n",
       "   'is_admin': 0,\n",
       "   'is_member': 1,\n",
       "   'is_advertiser': 0,\n",
       "   'photos': [{'height': 50,\n",
       "     'url': 'https://sun1-29.userapi.com/s/v1/ig1/QXid93z0nKBvMLcIDplKpiOKQLKSL-6REXHwVPBtbMNj4ntImLfJBgFYbsvEFtTy1xl2oWKF.jpg?size=50x50&quality=96&crop=215,216,1728,1728&ava=1',\n",
       "     'width': 50},\n",
       "    {'height': 100,\n",
       "     'url': 'https://sun1-29.userapi.com/s/v1/ig1/tIskK4EnVTnRJJnrTguSZpykNvdfDIaJXzY1b-dBNNcVaSI6km1Hk3QEL2vkK4ai9OmwODxJ.jpg?size=100x100&quality=96&crop=215,216,1728,1728&ava=1',\n",
       "     'width': 100},\n",
       "    {'height': 200,\n",
       "     'url': 'https://sun1-29.userapi.com/s/v1/ig1/x2MMXARqSnKat1rb8_gyL-R3eCSp6QPP5YXHEUPQ_jbTDCZ4Q9bT7us0rRofdc7opri5ZEMB.jpg?size=200x200&quality=96&crop=215,216,1728,1728&ava=1',\n",
       "     'width': 200}],\n",
       "   'photo_50': 'https://sun1-29.userapi.com/s/v1/ig1/QXid93z0nKBvMLcIDplKpiOKQLKSL-6REXHwVPBtbMNj4ntImLfJBgFYbsvEFtTy1xl2oWKF.jpg?size=50x50&quality=96&crop=215,216,1728,1728&ava=1',\n",
       "   'photo_100': 'https://sun1-29.userapi.com/s/v1/ig1/tIskK4EnVTnRJJnrTguSZpykNvdfDIaJXzY1b-dBNNcVaSI6km1Hk3QEL2vkK4ai9OmwODxJ.jpg?size=100x100&quality=96&crop=215,216,1728,1728&ava=1',\n",
       "   'photo_200': 'https://sun1-29.userapi.com/s/v1/ig1/x2MMXARqSnKat1rb8_gyL-R3eCSp6QPP5YXHEUPQ_jbTDCZ4Q9bT7us0rRofdc7opri5ZEMB.jpg?size=200x200&quality=96&crop=215,216,1728,1728&ava=1'},\n",
       "  {'id': 40158182,\n",
       "   'name': 'ежемесячные',\n",
       "   'screen_name': 'khb_eshm',\n",
       "   'is_closed': 0,\n",
       "   'type': 'page',\n",
       "   'is_admin': 0,\n",
       "   'is_member': 1,\n",
       "   'is_advertiser': 0,\n",
       "   'photos': [{'height': 50,\n",
       "     'url': 'https://sun1-20.userapi.com/s/v1/if1/VkMHoBjMdT2SkmJ2aXzOnp8FXwm5VkTb-AnEJSjKPLOS9A7RscNNlEPnzsxl5WM0ka5Uk6YR.jpg?size=50x50&quality=96&crop=460,25,486,486&ava=1',\n",
       "     'width': 50},\n",
       "    {'height': 100,\n",
       "     'url': 'https://sun1-20.userapi.com/s/v1/if1/hguEOeNvDIfVi4zw-AtKEEaPvc1_9PMOqsysBUEqVBUNsszz-VEDbltCrM74b3sMtzsNE_rI.jpg?size=100x100&quality=96&crop=460,25,486,486&ava=1',\n",
       "     'width': 100},\n",
       "    {'height': 200,\n",
       "     'url': 'https://sun1-20.userapi.com/s/v1/if1/QcWvFfsgeOA88tX3U59Zn5SRyelHKSfT6RN4lddEzMJQyRwe3CjZrU6_VwdHgRlR05GP8d7x.jpg?size=200x200&quality=96&crop=460,25,486,486&ava=1',\n",
       "     'width': 200}],\n",
       "   'photo_50': 'https://sun1-20.userapi.com/s/v1/if1/VkMHoBjMdT2SkmJ2aXzOnp8FXwm5VkTb-AnEJSjKPLOS9A7RscNNlEPnzsxl5WM0ka5Uk6YR.jpg?size=50x50&quality=96&crop=460,25,486,486&ava=1',\n",
       "   'photo_100': 'https://sun1-20.userapi.com/s/v1/if1/hguEOeNvDIfVi4zw-AtKEEaPvc1_9PMOqsysBUEqVBUNsszz-VEDbltCrM74b3sMtzsNE_rI.jpg?size=100x100&quality=96&crop=460,25,486,486&ava=1',\n",
       "   'photo_200': 'https://sun1-20.userapi.com/s/v1/if1/QcWvFfsgeOA88tX3U59Zn5SRyelHKSfT6RN4lddEzMJQyRwe3CjZrU6_VwdHgRlR05GP8d7x.jpg?size=200x200&quality=96&crop=460,25,486,486&ava=1'}]}"
      ]
     },
     "execution_count": 41,
     "metadata": {},
     "output_type": "execute_result"
    }
   ],
   "source": [
    "test"
   ]
  },
  {
   "cell_type": "markdown",
   "id": "c2c830d9-af12-4230-84a5-af27b396d9f0",
   "metadata": {},
   "source": [
    "церпэршщыркеэшощэьзщиаы"
   ]
  }
 ],
 "metadata": {
  "kernelspec": {
   "display_name": "Python 3 (ipykernel)",
   "language": "python",
   "name": "python3"
  },
  "language_info": {
   "codemirror_mode": {
    "name": "ipython",
    "version": 3
   },
   "file_extension": ".py",
   "mimetype": "text/x-python",
   "name": "python",
   "nbconvert_exporter": "python",
   "pygments_lexer": "ipython3",
   "version": "3.9.6"
  }
 },
 "nbformat": 4,
 "nbformat_minor": 5
}
